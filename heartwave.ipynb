{
 "cells": [
  {
   "cell_type": "markdown",
   "metadata": {},
   "source": [
    "## EDA"
   ]
  },
  {
   "cell_type": "markdown",
   "metadata": {},
   "source": [
    "Classes: ['N': 0, 'S': 1, 'V': 2, 'F': 3, 'Q': 4]\n",
    "\n",
    "- N : Non-ecotic beats (normal beat) \n",
    "- S : Supraventricular ectopic beats \n",
    "- V : Ventricular ectopic beats \n",
    "- F : Fusion Beats \n",
    "- Q : Unknown Beats "
   ]
  },
  {
   "cell_type": "code",
   "execution_count": 1,
   "metadata": {},
   "outputs": [],
   "source": [
    "import numpy as np\n",
    "import pandas as pd\n",
    "import seaborn as sns\n",
    "import matplotlib.pyplot as plt\n",
    "import seaborn as sns\n",
    "from sklearn.metrics import classification_report, f1_score, confusion_matrix\n",
    "from sklearn.model_selection import train_test_split\n",
    "from sklearn.utils import resample"
   ]
  },
  {
   "cell_type": "code",
   "execution_count": 2,
   "metadata": {},
   "outputs": [],
   "source": [
    "import tensorflow as tf\n",
    "from tensorflow.keras.utils import to_categorical\n",
    "from tensorflow.keras.layers import Dense, Convolution1D, MaxPool1D, Flatten, Dropout, Input, BatchNormalization\n",
    "from tensorflow.keras.models import Model\n",
    "from tensorflow.keras.callbacks import EarlyStopping, ModelCheckpoint"
   ]
  },
  {
   "cell_type": "code",
   "execution_count": 9,
   "metadata": {},
   "outputs": [],
   "source": [
    "train_df=pd.read_csv('/Users/alberttamman/Documents/ITC/hackathon/heartwave/datasets/mitbih_train.csv',header=None)\n",
    "test_df=pd.read_csv('/Users/alberttamman/Documents/ITC/hackathon/heartwave/datasets/mitbih_test.csv',header=None)"
   ]
  },
  {
   "cell_type": "code",
   "execution_count": 10,
   "metadata": {},
   "outputs": [
    {
     "data": {
      "text/plain": [
       "(87554, 188)"
      ]
     },
     "execution_count": 10,
     "metadata": {},
     "output_type": "execute_result"
    }
   ],
   "source": [
    "train_df.shape"
   ]
  },
  {
   "cell_type": "code",
   "execution_count": 11,
   "metadata": {},
   "outputs": [
    {
     "data": {
      "text/html": [
       "<div>\n",
       "<style scoped>\n",
       "    .dataframe tbody tr th:only-of-type {\n",
       "        vertical-align: middle;\n",
       "    }\n",
       "\n",
       "    .dataframe tbody tr th {\n",
       "        vertical-align: top;\n",
       "    }\n",
       "\n",
       "    .dataframe thead th {\n",
       "        text-align: right;\n",
       "    }\n",
       "</style>\n",
       "<table border=\"1\" class=\"dataframe\">\n",
       "  <thead>\n",
       "    <tr style=\"text-align: right;\">\n",
       "      <th></th>\n",
       "      <th>0</th>\n",
       "      <th>1</th>\n",
       "      <th>2</th>\n",
       "      <th>3</th>\n",
       "      <th>4</th>\n",
       "      <th>5</th>\n",
       "      <th>6</th>\n",
       "      <th>7</th>\n",
       "      <th>8</th>\n",
       "      <th>9</th>\n",
       "      <th>...</th>\n",
       "      <th>178</th>\n",
       "      <th>179</th>\n",
       "      <th>180</th>\n",
       "      <th>181</th>\n",
       "      <th>182</th>\n",
       "      <th>183</th>\n",
       "      <th>184</th>\n",
       "      <th>185</th>\n",
       "      <th>186</th>\n",
       "      <th>187</th>\n",
       "    </tr>\n",
       "  </thead>\n",
       "  <tbody>\n",
       "    <tr>\n",
       "      <th>0</th>\n",
       "      <td>0.977941</td>\n",
       "      <td>0.926471</td>\n",
       "      <td>0.681373</td>\n",
       "      <td>0.245098</td>\n",
       "      <td>0.154412</td>\n",
       "      <td>0.191176</td>\n",
       "      <td>0.151961</td>\n",
       "      <td>0.085784</td>\n",
       "      <td>0.058824</td>\n",
       "      <td>0.049020</td>\n",
       "      <td>...</td>\n",
       "      <td>0.0</td>\n",
       "      <td>0.0</td>\n",
       "      <td>0.0</td>\n",
       "      <td>0.0</td>\n",
       "      <td>0.0</td>\n",
       "      <td>0.0</td>\n",
       "      <td>0.0</td>\n",
       "      <td>0.0</td>\n",
       "      <td>0.0</td>\n",
       "      <td>0.0</td>\n",
       "    </tr>\n",
       "    <tr>\n",
       "      <th>1</th>\n",
       "      <td>0.960114</td>\n",
       "      <td>0.863248</td>\n",
       "      <td>0.461538</td>\n",
       "      <td>0.196581</td>\n",
       "      <td>0.094017</td>\n",
       "      <td>0.125356</td>\n",
       "      <td>0.099715</td>\n",
       "      <td>0.088319</td>\n",
       "      <td>0.074074</td>\n",
       "      <td>0.082621</td>\n",
       "      <td>...</td>\n",
       "      <td>0.0</td>\n",
       "      <td>0.0</td>\n",
       "      <td>0.0</td>\n",
       "      <td>0.0</td>\n",
       "      <td>0.0</td>\n",
       "      <td>0.0</td>\n",
       "      <td>0.0</td>\n",
       "      <td>0.0</td>\n",
       "      <td>0.0</td>\n",
       "      <td>0.0</td>\n",
       "    </tr>\n",
       "    <tr>\n",
       "      <th>2</th>\n",
       "      <td>1.000000</td>\n",
       "      <td>0.659459</td>\n",
       "      <td>0.186486</td>\n",
       "      <td>0.070270</td>\n",
       "      <td>0.070270</td>\n",
       "      <td>0.059459</td>\n",
       "      <td>0.056757</td>\n",
       "      <td>0.043243</td>\n",
       "      <td>0.054054</td>\n",
       "      <td>0.045946</td>\n",
       "      <td>...</td>\n",
       "      <td>0.0</td>\n",
       "      <td>0.0</td>\n",
       "      <td>0.0</td>\n",
       "      <td>0.0</td>\n",
       "      <td>0.0</td>\n",
       "      <td>0.0</td>\n",
       "      <td>0.0</td>\n",
       "      <td>0.0</td>\n",
       "      <td>0.0</td>\n",
       "      <td>0.0</td>\n",
       "    </tr>\n",
       "    <tr>\n",
       "      <th>3</th>\n",
       "      <td>0.925414</td>\n",
       "      <td>0.665746</td>\n",
       "      <td>0.541436</td>\n",
       "      <td>0.276243</td>\n",
       "      <td>0.196133</td>\n",
       "      <td>0.077348</td>\n",
       "      <td>0.071823</td>\n",
       "      <td>0.060773</td>\n",
       "      <td>0.066298</td>\n",
       "      <td>0.058011</td>\n",
       "      <td>...</td>\n",
       "      <td>0.0</td>\n",
       "      <td>0.0</td>\n",
       "      <td>0.0</td>\n",
       "      <td>0.0</td>\n",
       "      <td>0.0</td>\n",
       "      <td>0.0</td>\n",
       "      <td>0.0</td>\n",
       "      <td>0.0</td>\n",
       "      <td>0.0</td>\n",
       "      <td>0.0</td>\n",
       "    </tr>\n",
       "    <tr>\n",
       "      <th>4</th>\n",
       "      <td>0.967136</td>\n",
       "      <td>1.000000</td>\n",
       "      <td>0.830986</td>\n",
       "      <td>0.586854</td>\n",
       "      <td>0.356808</td>\n",
       "      <td>0.248826</td>\n",
       "      <td>0.145540</td>\n",
       "      <td>0.089202</td>\n",
       "      <td>0.117371</td>\n",
       "      <td>0.150235</td>\n",
       "      <td>...</td>\n",
       "      <td>0.0</td>\n",
       "      <td>0.0</td>\n",
       "      <td>0.0</td>\n",
       "      <td>0.0</td>\n",
       "      <td>0.0</td>\n",
       "      <td>0.0</td>\n",
       "      <td>0.0</td>\n",
       "      <td>0.0</td>\n",
       "      <td>0.0</td>\n",
       "      <td>0.0</td>\n",
       "    </tr>\n",
       "  </tbody>\n",
       "</table>\n",
       "<p>5 rows × 188 columns</p>\n",
       "</div>"
      ],
      "text/plain": [
       "        0         1         2         3         4         5         6    \\\n",
       "0  0.977941  0.926471  0.681373  0.245098  0.154412  0.191176  0.151961   \n",
       "1  0.960114  0.863248  0.461538  0.196581  0.094017  0.125356  0.099715   \n",
       "2  1.000000  0.659459  0.186486  0.070270  0.070270  0.059459  0.056757   \n",
       "3  0.925414  0.665746  0.541436  0.276243  0.196133  0.077348  0.071823   \n",
       "4  0.967136  1.000000  0.830986  0.586854  0.356808  0.248826  0.145540   \n",
       "\n",
       "        7         8         9    ...  178  179  180  181  182  183  184  185  \\\n",
       "0  0.085784  0.058824  0.049020  ...  0.0  0.0  0.0  0.0  0.0  0.0  0.0  0.0   \n",
       "1  0.088319  0.074074  0.082621  ...  0.0  0.0  0.0  0.0  0.0  0.0  0.0  0.0   \n",
       "2  0.043243  0.054054  0.045946  ...  0.0  0.0  0.0  0.0  0.0  0.0  0.0  0.0   \n",
       "3  0.060773  0.066298  0.058011  ...  0.0  0.0  0.0  0.0  0.0  0.0  0.0  0.0   \n",
       "4  0.089202  0.117371  0.150235  ...  0.0  0.0  0.0  0.0  0.0  0.0  0.0  0.0   \n",
       "\n",
       "   186  187  \n",
       "0  0.0  0.0  \n",
       "1  0.0  0.0  \n",
       "2  0.0  0.0  \n",
       "3  0.0  0.0  \n",
       "4  0.0  0.0  \n",
       "\n",
       "[5 rows x 188 columns]"
      ]
     },
     "execution_count": 11,
     "metadata": {},
     "output_type": "execute_result"
    }
   ],
   "source": [
    "train_df.head()"
   ]
  },
  {
   "cell_type": "code",
   "execution_count": 12,
   "metadata": {},
   "outputs": [
    {
     "data": {
      "text/plain": [
       "0    72471\n",
       "4     6431\n",
       "2     5788\n",
       "1     2223\n",
       "3      641\n",
       "Name: 187, dtype: int64"
      ]
     },
     "execution_count": 12,
     "metadata": {},
     "output_type": "execute_result"
    }
   ],
   "source": [
    "train_df[187] = train_df[187].astype(int)\n",
    "train_df[187].value_counts()"
   ]
  },
  {
   "cell_type": "code",
   "execution_count": 13,
   "metadata": {},
   "outputs": [
    {
     "data": {
      "text/plain": [
       "Text(0.5, 1.0, 'Target Distribution')"
      ]
     },
     "execution_count": 13,
     "metadata": {},
     "output_type": "execute_result"
    },
    {
     "data": {
      "image/png": "[encoded data removed]",
      "text/plain": [
       "<Figure size 432x288 with 1 Axes>"
      ]
     },
     "metadata": {
      "needs_background": "light"
     },
     "output_type": "display_data"
    }
   ],
   "source": [
    "sns.countplot(x=train_df[187])\n",
    "plt.title('Target Distribution')"
   ]
  },
  {
   "cell_type": "markdown",
   "metadata": {},
   "source": [
    "We can see that the dataset is very unbalanced"
   ]
  },
  {
   "cell_type": "code",
   "execution_count": 14,
   "metadata": {},
   "outputs": [],
   "source": [
    "df_1 = train_df[train_df[187]==1]\n",
    "df_2 = train_df[train_df[187]==2]\n",
    "df_3 = train_df[train_df[187]==3]\n",
    "df_4 = train_df[train_df[187]==4]\n",
    "df_0 = (train_df[train_df[187]==0]).sample(n=20000,random_state=42)\n",
    "\n",
    "df_1_upsample = resample(df_1,replace=True,n_samples=20000,random_state=123)\n",
    "df_2_upsample = resample(df_2,replace=True,n_samples=20000,random_state=124)\n",
    "df_3_upsample = resample(df_3,replace=True,n_samples=20000,random_state=125)\n",
    "df_4_upsample = resample(df_4,replace=True,n_samples=20000,random_state=126)\n",
    "\n",
    "train_df = pd.concat([df_0, df_1_upsample, df_2_upsample, df_3_upsample, df_4_upsample])"
   ]
  },
  {
   "cell_type": "code",
   "execution_count": 15,
   "metadata": {},
   "outputs": [
    {
     "data": {
      "text/plain": [
       "0    20000\n",
       "1    20000\n",
       "2    20000\n",
       "3    20000\n",
       "4    20000\n",
       "Name: 187, dtype: int64"
      ]
     },
     "execution_count": 15,
     "metadata": {},
     "output_type": "execute_result"
    }
   ],
   "source": [
    "# train_df[187] = train_df[187].astype(int)\n",
    "train_df[187].value_counts()"
   ]
  },
  {
   "cell_type": "code",
   "execution_count": 16,
   "metadata": {},
   "outputs": [],
   "source": [
    "sample_0 = train_df[train_df[187]==0].sample(1, random_state=7).iloc[0,:187]\n",
    "sample_1 = train_df[train_df[187]==1].sample(1, random_state=7).iloc[0,:187]\n",
    "sample_2 = train_df[train_df[187]==2].sample(1, random_state=7).iloc[0,:187]\n",
    "sample_3 = train_df[train_df[187]==3].sample(1, random_state=7).iloc[0,:187]\n",
    "sample_4 = train_df[train_df[187]==4].sample(1, random_state=7).iloc[0,:187]"
   ]
  },
  {
   "cell_type": "code",
   "execution_count": 17,
   "metadata": {
    "scrolled": false
   },
   "outputs": [
    {
     "data": {
      "image/png": "[encoded data removed]",
      "text/plain": [
       "<Figure size 720x432 with 1 Axes>"
      ]
     },
     "metadata": {
      "needs_background": "light"
     },
     "output_type": "display_data"
    }
   ],
   "source": [
    "plt.figure(figsize=(10,6))\n",
    "plt.plot(sample_0, label='N')\n",
    "plt.plot(sample_1, label='S')\n",
    "plt.plot(sample_2, label='V')\n",
    "plt.plot(sample_3, label='F')\n",
    "plt.plot(sample_4, label='Q')\n",
    "plt.title('Sample beat ECG of each category')\n",
    "plt.legend()\n",
    "plt.show()\n"
   ]
  },
  {
   "cell_type": "code",
   "execution_count": 18,
   "metadata": {},
   "outputs": [
    {
     "data": {
      "image/png": "[encoded data removed]",
      "text/plain": [
       "<Figure size 432x288 with 1 Axes>"
      ]
     },
     "metadata": {
      "needs_background": "light"
     },
     "output_type": "display_data"
    }
   ],
   "source": [
    "plt.plot(sample_0, label='N');"
   ]
  },
  {
   "cell_type": "code",
   "execution_count": 27,
   "metadata": {},
   "outputs": [],
   "source": [
    "def network(X_train,y_train,X_test,y_test):\n",
    "    \n",
    "\n",
    "    im_shape=(X_train.shape[1],1)\n",
    "    inputs_cnn=Input(shape=(im_shape), name='inputs_cnn')\n",
    "    conv1_1=Convolution1D(64, (6), activation='relu', input_shape=im_shape)(inputs_cnn)\n",
    "    conv1_1=BatchNormalization()(conv1_1)\n",
    "    pool1=MaxPool1D(pool_size=(3), strides=(2), padding=\"same\")(conv1_1)\n",
    "    conv2_1=Convolution1D(64, (3), activation='relu', input_shape=im_shape)(pool1)\n",
    "    conv2_1=BatchNormalization()(conv2_1)\n",
    "    pool2=MaxPool1D(pool_size=(2), strides=(2), padding=\"same\")(conv2_1)\n",
    "    conv3_1=Convolution1D(64, (3), activation='relu', input_shape=im_shape)(pool2)\n",
    "    conv3_1=BatchNormalization()(conv3_1)\n",
    "    pool3=MaxPool1D(pool_size=(2), strides=(2), padding=\"same\")(conv3_1)\n",
    "    flatten=Flatten()(pool3)\n",
    "    dense_end1 = Dense(64, activation='relu')(flatten)\n",
    "    dense_end2 = Dense(32, activation='relu')(dense_end1)\n",
    "    main_output = Dense(5, activation='softmax', name='main_output')(dense_end2)\n",
    "    \n",
    "    \n",
    "    model = Model(inputs= inputs_cnn, outputs=main_output)\n",
    "    model.compile(optimizer='adam', loss='categorical_crossentropy',metrics = ['accuracy'])\n",
    "    \n",
    "    \n",
    "    callbacks = [EarlyStopping(monitor='val_loss', patience=8),\n",
    "             ModelCheckpoint(filepath='weights.h5', monitor='val_loss', save_best_only=True)]\n",
    "\n",
    "    history=model.fit(X_train, y_train,epochs=40,callbacks=callbacks, batch_size=32,validation_data=(X_test,y_test))\n",
    "    model.load_weights('weights.h5')\n",
    "    model.save('model.h5')\n",
    "    return(model, history)"
   ]
  },
  {
   "cell_type": "code",
   "execution_count": 28,
   "metadata": {},
   "outputs": [],
   "source": [
    "X_train=train_df.iloc[:,:186].values\n",
    "X_test=test_df.iloc[:,:186].values\n",
    "\n",
    "X_train = X_train.reshape(len(X_train), X_train.shape[1],1)\n",
    "X_test = X_test.reshape(len(X_test), X_test.shape[1],1)"
   ]
  },
  {
   "cell_type": "code",
   "execution_count": 77,
   "metadata": {},
   "outputs": [
    {
     "data": {
      "text/plain": [
       "array([[1.        , 0.75826448, 0.11157025, 0.        , 0.08057851,\n",
       "        0.0785124 , 0.0661157 , 0.04958678, 0.04752066, 0.03512397,\n",
       "        0.03099173, 0.02892562, 0.03512397, 0.0268595 , 0.0392562 ,\n",
       "        0.03512397, 0.04338843, 0.04752066, 0.05371901, 0.05371901,\n",
       "        0.07024793, 0.07231405, 0.08471075, 0.09710744, 0.12190083,\n",
       "        0.1322314 , 0.16942149, 0.19628099, 0.21487603, 0.23553719,\n",
       "        0.25413224, 0.2644628 , 0.28512397, 0.27272728, 0.26652893,\n",
       "        0.23966943, 0.21487603, 0.17355372, 0.1570248 , 0.12396694,\n",
       "        0.12190083, 0.10743801, 0.1053719 , 0.09710744, 0.1053719 ,\n",
       "        0.09917355, 0.1053719 , 0.09917355, 0.10743801, 0.10743801,\n",
       "        0.11570248, 0.11157025, 0.12190083, 0.11157025, 0.11983471,\n",
       "        0.11157025, 0.11363637, 0.11157025, 0.12190083, 0.1053719 ,\n",
       "        0.10743801, 0.10123967, 0.10123967, 0.08677686, 0.09297521,\n",
       "        0.08471075, 0.08264463, 0.0785124 , 0.0785124 , 0.07024793,\n",
       "        0.07644628, 0.06818182, 0.0785124 , 0.07024793, 0.06818182,\n",
       "        0.06818182, 0.07438017, 0.07231405, 0.09090909, 0.10123967,\n",
       "        0.10743801, 0.1053719 , 0.12190083, 0.11570248, 0.10950413,\n",
       "        0.09710744, 0.10330579, 0.09710744, 0.08677686, 0.07231405,\n",
       "        0.07024793, 0.05371901, 0.05785124, 0.04958678, 0.05785124,\n",
       "        0.05165289, 0.05578512, 0.05371901, 0.05371901, 0.        ,\n",
       "        0.01239669, 0.18801653, 0.68181819, 0.97520661, 0.61570245,\n",
       "        0.04132231, 0.01239669, 0.08677686, 0.0661157 , 0.0661157 ,\n",
       "        0.05165289, 0.0392562 , 0.04338843, 0.03305785, 0.04132231,\n",
       "        0.03512397, 0.04545455, 0.04132231, 0.04545455, 0.04338843,\n",
       "        0.04958678, 0.04752066, 0.06404959, 0.06818182, 0.        ,\n",
       "        0.        , 0.        , 0.        , 0.        , 0.        ,\n",
       "        0.        , 0.        , 0.        , 0.        , 0.        ,\n",
       "        0.        , 0.        , 0.        , 0.        , 0.        ,\n",
       "        0.        , 0.        , 0.        , 0.        , 0.        ,\n",
       "        0.        , 0.        , 0.        , 0.        , 0.        ,\n",
       "        0.        , 0.        , 0.        , 0.        , 0.        ,\n",
       "        0.        , 0.        , 0.        , 0.        , 0.        ,\n",
       "        0.        , 0.        , 0.        , 0.        , 0.        ,\n",
       "        0.        , 0.        , 0.        , 0.        , 0.        ,\n",
       "        0.        , 0.        , 0.        , 0.        , 0.        ,\n",
       "        0.        , 0.        , 0.        , 0.        , 0.        ,\n",
       "        0.        , 0.        , 0.        , 0.        , 0.        ,\n",
       "        0.        , 0.        , 0.        ]])"
      ]
     },
     "execution_count": 77,
     "metadata": {},
     "output_type": "execute_result"
    }
   ],
   "source": [
    "test_df.iloc[:1,:].values"
   ]
  },
  {
   "cell_type": "code",
   "execution_count": 72,
   "metadata": {},
   "outputs": [
    {
     "data": {
      "text/plain": [
       "(1, 188, 1)"
      ]
     },
     "execution_count": 72,
     "metadata": {},
     "output_type": "execute_result"
    }
   ],
   "source": [
    "aa = test_df.iloc[:1,:].values\n",
    "aa = aa.reshape(len(aa), aa.shape[1],1)\n",
    "aa.shape"
   ]
  },
  {
   "cell_type": "code",
   "execution_count": 29,
   "metadata": {},
   "outputs": [],
   "source": [
    "target_train=train_df[187]\n",
    "target_test=test_df[187]\n",
    "y_train=to_categorical(target_train)\n",
    "y_test=to_categorical(target_test)"
   ]
  },
  {
   "cell_type": "code",
   "execution_count": 30,
   "metadata": {},
   "outputs": [
    {
     "name": "stdout",
     "output_type": "stream",
     "text": [
      "Epoch 1/40\n",
      "3125/3125 [==============================] - 74s 23ms/step - loss: 0.3240 - accuracy: 0.8852 - val_loss: 0.1717 - val_accuracy: 0.9430\n",
      "Epoch 2/40\n",
      "3125/3125 [==============================] - 79s 25ms/step - loss: 0.0796 - accuracy: 0.9716 - val_loss: 0.1303 - val_accuracy: 0.9613\n",
      "Epoch 3/40\n",
      "3125/3125 [==============================] - 77s 25ms/step - loss: 0.0483 - accuracy: 0.9832 - val_loss: 0.1486 - val_accuracy: 0.9566\n",
      "Epoch 4/40\n",
      "3125/3125 [==============================] - 77s 25ms/step - loss: 0.0391 - accuracy: 0.9871 - val_loss: 0.1634 - val_accuracy: 0.9528\n",
      "Epoch 5/40\n",
      "3125/3125 [==============================] - 79s 25ms/step - loss: 0.0267 - accuracy: 0.9912 - val_loss: 0.1503 - val_accuracy: 0.9630\n",
      "Epoch 6/40\n",
      "3125/3125 [==============================] - 72s 23ms/step - loss: 0.0212 - accuracy: 0.9933 - val_loss: 0.1759 - val_accuracy: 0.9568\n",
      "Epoch 7/40\n",
      "3125/3125 [==============================] - 68s 22ms/step - loss: 0.0223 - accuracy: 0.9932 - val_loss: 0.1398 - val_accuracy: 0.9698\n",
      "Epoch 8/40\n",
      "3125/3125 [==============================] - 69s 22ms/step - loss: 0.0179 - accuracy: 0.9943 - val_loss: 0.1255 - val_accuracy: 0.9752\n",
      "Epoch 9/40\n",
      "3125/3125 [==============================] - 75s 24ms/step - loss: 0.0142 - accuracy: 0.9954 - val_loss: 0.1436 - val_accuracy: 0.9720\n",
      "Epoch 10/40\n",
      "3125/3125 [==============================] - 70s 22ms/step - loss: 0.0129 - accuracy: 0.9959 - val_loss: 0.1382 - val_accuracy: 0.9762\n",
      "Epoch 11/40\n",
      "3125/3125 [==============================] - 72s 23ms/step - loss: 0.0131 - accuracy: 0.9963 - val_loss: 0.2226 - val_accuracy: 0.9454\n",
      "Epoch 12/40\n",
      "3125/3125 [==============================] - 68s 22ms/step - loss: 0.0118 - accuracy: 0.9961 - val_loss: 0.1488 - val_accuracy: 0.9752\n",
      "Epoch 13/40\n",
      "3125/3125 [==============================] - 72s 23ms/step - loss: 0.0097 - accuracy: 0.9967 - val_loss: 0.1517 - val_accuracy: 0.9726\n",
      "Epoch 14/40\n",
      "3125/3125 [==============================] - 71s 23ms/step - loss: 0.0088 - accuracy: 0.9974 - val_loss: 0.1600 - val_accuracy: 0.9751\n",
      "Epoch 15/40\n",
      "3125/3125 [==============================] - 70s 22ms/step - loss: 0.0104 - accuracy: 0.9967 - val_loss: 0.1552 - val_accuracy: 0.9751\n",
      "Epoch 16/40\n",
      "3125/3125 [==============================] - 76s 24ms/step - loss: 0.0095 - accuracy: 0.9967 - val_loss: 0.1578 - val_accuracy: 0.9771\n"
     ]
    }
   ],
   "source": [
    "model, history=network(X_train, y_train, X_test, y_test)"
   ]
  },
  {
   "cell_type": "code",
   "execution_count": 31,
   "metadata": {},
   "outputs": [
    {
     "name": "stdout",
     "output_type": "stream",
     "text": [
      "Model: \"model_1\"\n",
      "_________________________________________________________________\n",
      "Layer (type)                 Output Shape              Param #   \n",
      "=================================================================\n",
      "inputs_cnn (InputLayer)      [(None, 186, 1)]          0         \n",
      "_________________________________________________________________\n",
      "conv1d_3 (Conv1D)            (None, 181, 64)           448       \n",
      "_________________________________________________________________\n",
      "batch_normalization_3 (Batch (None, 181, 64)           256       \n",
      "_________________________________________________________________\n",
      "max_pooling1d_3 (MaxPooling1 (None, 91, 64)            0         \n",
      "_________________________________________________________________\n",
      "conv1d_4 (Conv1D)            (None, 89, 64)            12352     \n",
      "_________________________________________________________________\n",
      "batch_normalization_4 (Batch (None, 89, 64)            256       \n",
      "_________________________________________________________________\n",
      "max_pooling1d_4 (MaxPooling1 (None, 45, 64)            0         \n",
      "_________________________________________________________________\n",
      "conv1d_5 (Conv1D)            (None, 43, 64)            12352     \n",
      "_________________________________________________________________\n",
      "batch_normalization_5 (Batch (None, 43, 64)            256       \n",
      "_________________________________________________________________\n",
      "max_pooling1d_5 (MaxPooling1 (None, 22, 64)            0         \n",
      "_________________________________________________________________\n",
      "flatten_1 (Flatten)          (None, 1408)              0         \n",
      "_________________________________________________________________\n",
      "dense_2 (Dense)              (None, 64)                90176     \n",
      "_________________________________________________________________\n",
      "dense_3 (Dense)              (None, 32)                2080      \n",
      "_________________________________________________________________\n",
      "main_output (Dense)          (None, 5)                 165       \n",
      "=================================================================\n",
      "Total params: 118,341\n",
      "Trainable params: 117,957\n",
      "Non-trainable params: 384\n",
      "_________________________________________________________________\n"
     ]
    }
   ],
   "source": [
    "model.summary()"
   ]
  },
  {
   "cell_type": "code",
   "execution_count": 102,
   "metadata": {},
   "outputs": [],
   "source": [
    "def evaluate_model(history,X_test,y_test,model):\n",
    "    scores = model.evaluate((X_test),y_test, verbose=0)\n",
    "    print(\"Accuracy: %.2f%%\" % (scores[1]*100))\n",
    "    \n",
    "    print(history)\n",
    "    fig1, ax_acc = plt.subplots()\n",
    "    plt.plot(history.history['accuracy'])\n",
    "    plt.plot(history.history['val_accuracy'])\n",
    "    plt.xlabel('Epoch')\n",
    "    plt.ylabel('Accuracy')\n",
    "    plt.title('Model - Accuracy')\n",
    "    plt.legend(['Training', 'Validation'], loc='lower right')\n",
    "    plt.show()\n",
    "    \n",
    "    fig2, ax_loss = plt.subplots()\n",
    "    plt.xlabel('Epoch')\n",
    "    plt.ylabel('Loss')\n",
    "    plt.title('Model- Loss')\n",
    "    plt.legend(['Training', 'Validation'], loc='upper right')\n",
    "    plt.plot(history.history['loss'])\n",
    "    plt.plot(history.history['val_loss'])\n",
    "    plt.show()\n",
    "    target_names=['0','1','2','3','4']\n",
    "    \n",
    "    y_true=[]\n",
    "    for element in y_test:\n",
    "        y_true.append(np.argmax(element))\n",
    "    prediction_proba=model.predict(X_test)\n",
    "    prediction=np.argmax(prediction_proba,axis=1)\n",
    "    cnf_matrix = confusion_matrix(y_true, prediction)"
   ]
  },
  {
   "cell_type": "code",
   "execution_count": 103,
   "metadata": {},
   "outputs": [
    {
     "name": "stdout",
     "output_type": "stream",
     "text": [
      "Accuracy: 97.52%\n",
      "<tensorflow.python.keras.callbacks.History object at 0x7f9c0947cd10>\n"
     ]
    },
    {
     "data": {
      "image/png": "[encoded data removed]",
      "text/plain": [
       "<Figure size 432x288 with 1 Axes>"
      ]
     },
     "metadata": {
      "needs_background": "light"
     },
     "output_type": "display_data"
    },
    {
     "data": {
      "image/png": "[encoded data removed]",
      "text/plain": [
       "<Figure size 432x288 with 1 Axes>"
      ]
     },
     "metadata": {
      "needs_background": "light"
     },
     "output_type": "display_data"
    }
   ],
   "source": [
    "evaluate_model(history,X_test,y_test,model)"
   ]
  },
  {
   "cell_type": "code",
   "execution_count": 32,
   "metadata": {},
   "outputs": [],
   "source": [
    "data_sample = test_df.iloc[:,:187].sample(1, random_state=7)"
   ]
  },
  {
   "cell_type": "code",
   "execution_count": 33,
   "metadata": {},
   "outputs": [
    {
     "data": {
      "text/html": [
       "<div>\n",
       "<style scoped>\n",
       "    .dataframe tbody tr th:only-of-type {\n",
       "        vertical-align: middle;\n",
       "    }\n",
       "\n",
       "    .dataframe tbody tr th {\n",
       "        vertical-align: top;\n",
       "    }\n",
       "\n",
       "    .dataframe thead th {\n",
       "        text-align: right;\n",
       "    }\n",
       "</style>\n",
       "<table border=\"1\" class=\"dataframe\">\n",
       "  <thead>\n",
       "    <tr style=\"text-align: right;\">\n",
       "      <th></th>\n",
       "      <th>0</th>\n",
       "      <th>1</th>\n",
       "      <th>2</th>\n",
       "      <th>3</th>\n",
       "      <th>4</th>\n",
       "      <th>5</th>\n",
       "      <th>6</th>\n",
       "      <th>7</th>\n",
       "      <th>8</th>\n",
       "      <th>9</th>\n",
       "      <th>...</th>\n",
       "      <th>177</th>\n",
       "      <th>178</th>\n",
       "      <th>179</th>\n",
       "      <th>180</th>\n",
       "      <th>181</th>\n",
       "      <th>182</th>\n",
       "      <th>183</th>\n",
       "      <th>184</th>\n",
       "      <th>185</th>\n",
       "      <th>186</th>\n",
       "    </tr>\n",
       "  </thead>\n",
       "  <tbody>\n",
       "    <tr>\n",
       "      <th>20151</th>\n",
       "      <td>0.855491</td>\n",
       "      <td>0.959538</td>\n",
       "      <td>1.0</td>\n",
       "      <td>0.662813</td>\n",
       "      <td>0.325626</td>\n",
       "      <td>0.169557</td>\n",
       "      <td>0.1079</td>\n",
       "      <td>0.096339</td>\n",
       "      <td>0.067437</td>\n",
       "      <td>0.075145</td>\n",
       "      <td>...</td>\n",
       "      <td>0.0</td>\n",
       "      <td>0.0</td>\n",
       "      <td>0.0</td>\n",
       "      <td>0.0</td>\n",
       "      <td>0.0</td>\n",
       "      <td>0.0</td>\n",
       "      <td>0.0</td>\n",
       "      <td>0.0</td>\n",
       "      <td>0.0</td>\n",
       "      <td>0.0</td>\n",
       "    </tr>\n",
       "  </tbody>\n",
       "</table>\n",
       "<p>1 rows × 187 columns</p>\n",
       "</div>"
      ],
      "text/plain": [
       "            0         1    2         3         4         5       6    \\\n",
       "20151  0.855491  0.959538  1.0  0.662813  0.325626  0.169557  0.1079   \n",
       "\n",
       "            7         8         9    ...  177  178  179  180  181  182  183  \\\n",
       "20151  0.096339  0.067437  0.075145  ...  0.0  0.0  0.0  0.0  0.0  0.0  0.0   \n",
       "\n",
       "       184  185  186  \n",
       "20151  0.0  0.0  0.0  \n",
       "\n",
       "[1 rows x 187 columns]"
      ]
     },
     "execution_count": 33,
     "metadata": {},
     "output_type": "execute_result"
    }
   ],
   "source": [
    "data_sample"
   ]
  },
  {
   "cell_type": "code",
   "execution_count": 34,
   "metadata": {},
   "outputs": [
    {
     "data": {
      "text/plain": [
       "(1, 187)"
      ]
     },
     "execution_count": 34,
     "metadata": {},
     "output_type": "execute_result"
    }
   ],
   "source": [
    "data_sample.shape"
   ]
  },
  {
   "cell_type": "code",
   "execution_count": 45,
   "metadata": {},
   "outputs": [
    {
     "name": "stdout",
     "output_type": "stream",
     "text": [
      "Input file is:\n",
      " {'0': {'20151': 0.8554913402}, '1': {'20151': 0.9595375657}, '2': {'20151': 1.0}, '3': {'20151': 0.662813127}, '4': {'20151': 0.3256261945}, '5': {'20151': 0.1695568413}, '6': {'20151': 0.1078998074}, '7': {'20151': 0.096339114}, '8': {'20151': 0.0674373806}, '9': {'20151': 0.075144507}, '10': {'20151': 0.0539499037}, '11': {'20151': 0.0558766872}, '12': {'20151': 0.0443159938}, '13': {'20151': 0.0539499037}, '14': {'20151': 0.0346820801}, '15': {'20151': 0.0385356471}, '16': {'20151': 0.0173410401}, '17': {'20151': 0.0250481702}, '18': {'20151': 0.0096339118}, '19': {'20151': 0.0134874759}, '20': {'20151': 0.0038535646}, '21': {'20151': 0.0115606934}, '22': {'20151': 0.0}, '23': {'20151': 0.0134874759}, '24': {'20151': 0.0096339118}, '25': {'20151': 0.0404624268}, '26': {'20151': 0.0404624268}, '27': {'20151': 0.0770712942}, '28': {'20151': 0.0809248537}, '29': {'20151': 0.117533721}, '30': {'20151': 0.1213872805}, '31': {'20151': 0.1579961479}, '32': {'20151': 0.150289014}, '33': {'20151': 0.1695568413}, '34': {'20151': 0.1657032818}, '35': {'20151': 0.1695568413}, '36': {'20151': 0.1657032818}, '37': {'20151': 0.1522157937}, '38': {'20151': 0.1560693681}, '39': {'20151': 0.1657032818}, '40': {'20151': 0.1560693681}, '41': {'20151': 0.1657032818}, '42': {'20151': 0.1637764871}, '43': {'20151': 0.1676300615}, '44': {'20151': 0.1676300615}, '45': {'20151': 0.1791907549}, '46': {'20151': 0.171483621}, '47': {'20151': 0.192678228}, '48': {'20151': 0.1849710941}, '49': {'20151': 0.2023121417}, '50': {'20151': 0.2235067487}, '51': {'20151': 0.2658959627}, '52': {'20151': 0.3275529742}, '53': {'20151': 0.4104046226}, '54': {'20151': 0.5202311873}, '55': {'20151': 0.635838151}, '56': {'20151': 0.7148362398}, '57': {'20151': 0.8227360249}, '58': {'20151': 0.8285163641}, '59': {'20151': 0.7341040373}, '60': {'20151': 0.670520246}, '61': {'20151': 0.6416184902}, '62': {'20151': 0.620423913}, '63': {'20151': 0.6416184902}, '64': {'20151': 0.5105972886}, '65': {'20151': 0.2967244685}, '66': {'20151': 0.1522157937}, '67': {'20151': 0.117533721}, '68': {'20151': 0.0924855471}, '69': {'20151': 0.0867052004}, '70': {'20151': 0.0520231202}, '71': {'20151': 0.0616570339}, '72': {'20151': 0.048169557}, '73': {'20151': 0.0346820801}, '74': {'20151': 0.0}, '75': {'20151': 0.0}, '76': {'20151': 0.0}, '77': {'20151': 0.0}, '78': {'20151': 0.0}, '79': {'20151': 0.0}, '80': {'20151': 0.0}, '81': {'20151': 0.0}, '82': {'20151': 0.0}, '83': {'20151': 0.0}, '84': {'20151': 0.0}, '85': {'20151': 0.0}, '86': {'20151': 0.0}, '87': {'20151': 0.0}, '88': {'20151': 0.0}, '89': {'20151': 0.0}, '90': {'20151': 0.0}, '91': {'20151': 0.0}, '92': {'20151': 0.0}, '93': {'20151': 0.0}, '94': {'20151': 0.0}, '95': {'20151': 0.0}, '96': {'20151': 0.0}, '97': {'20151': 0.0}, '98': {'20151': 0.0}, '99': {'20151': 0.0}, '100': {'20151': 0.0}, '101': {'20151': 0.0}, '102': {'20151': 0.0}, '103': {'20151': 0.0}, '104': {'20151': 0.0}, '105': {'20151': 0.0}, '106': {'20151': 0.0}, '107': {'20151': 0.0}, '108': {'20151': 0.0}, '109': {'20151': 0.0}, '110': {'20151': 0.0}, '111': {'20151': 0.0}, '112': {'20151': 0.0}, '113': {'20151': 0.0}, '114': {'20151': 0.0}, '115': {'20151': 0.0}, '116': {'20151': 0.0}, '117': {'20151': 0.0}, '118': {'20151': 0.0}, '119': {'20151': 0.0}, '120': {'20151': 0.0}, '121': {'20151': 0.0}, '122': {'20151': 0.0}, '123': {'20151': 0.0}, '124': {'20151': 0.0}, '125': {'20151': 0.0}, '126': {'20151': 0.0}, '127': {'20151': 0.0}, '128': {'20151': 0.0}, '129': {'20151': 0.0}, '130': {'20151': 0.0}, '131': {'20151': 0.0}, '132': {'20151': 0.0}, '133': {'20151': 0.0}, '134': {'20151': 0.0}, '135': {'20151': 0.0}, '136': {'20151': 0.0}, '137': {'20151': 0.0}, '138': {'20151': 0.0}, '139': {'20151': 0.0}, '140': {'20151': 0.0}, '141': {'20151': 0.0}, '142': {'20151': 0.0}, '143': {'20151': 0.0}, '144': {'20151': 0.0}, '145': {'20151': 0.0}, '146': {'20151': 0.0}, '147': {'20151': 0.0}, '148': {'20151': 0.0}, '149': {'20151': 0.0}, '150': {'20151': 0.0}, '151': {'20151': 0.0}, '152': {'20151': 0.0}, '153': {'20151': 0.0}, '154': {'20151': 0.0}, '155': {'20151': 0.0}, '156': {'20151': 0.0}, '157': {'20151': 0.0}, '158': {'20151': 0.0}, '159': {'20151': 0.0}, '160': {'20151': 0.0}, '161': {'20151': 0.0}, '162': {'20151': 0.0}, '163': {'20151': 0.0}, '164': {'20151': 0.0}, '165': {'20151': 0.0}, '166': {'20151': 0.0}, '167': {'20151': 0.0}, '168': {'20151': 0.0}, '169': {'20151': 0.0}, '170': {'20151': 0.0}, '171': {'20151': 0.0}, '172': {'20151': 0.0}, '173': {'20151': 0.0}, '174': {'20151': 0.0}, '175': {'20151': 0.0}, '176': {'20151': 0.0}, '177': {'20151': 0.0}, '178': {'20151': 0.0}, '179': {'20151': 0.0}, '180': {'20151': 0.0}, '181': {'20151': 0.0}, '182': {'20151': 0.0}, '183': {'20151': 0.0}, '184': {'20151': 0.0}, '185': {'20151': 0.0}}\n"
     ]
    }
   ],
   "source": [
    "import json\n",
    "import requests\n",
    "with open('/Users/alberttamman/PycharmProjects/heartwave_server/sample_data.json') as json_file:\n",
    "    data = json.load(json_file)\n",
    "    print(\"Input file is:\\n\", data)"
   ]
  },
  {
   "cell_type": "code",
   "execution_count": 93,
   "metadata": {},
   "outputs": [
    {
     "name": "stdout",
     "output_type": "stream",
     "text": [
      "{\n",
      "  \"prediction\": \"[[1.0753256e-06 1.1398250e-12 4.1432122e-07 9.9999857e-01 4.7910710e-11]]\", \n",
      "  \"success\": true\n",
      "}\n",
      "\n"
     ]
    }
   ],
   "source": [
    "response = requests.post('http://127.0.0.1:5000/json', json=data)\n",
    "print(response.text)"
   ]
  },
  {
   "cell_type": "code",
   "execution_count": 95,
   "metadata": {},
   "outputs": [
    {
     "name": "stdout",
     "output_type": "stream",
     "text": [
      "{\"prediction\":\"[[1.0753205e-06 1.1398207e-12 4.1431963e-07 9.9999857e-01 4.7910526e-11]]\",\"success\":true}\n",
      "\n"
     ]
    }
   ],
   "source": [
    "\n",
    "response = requests.post('https://heartwave-app.herokuapp.com/json', json=data)\n",
    "print(response.text)"
   ]
  },
  {
   "cell_type": "code",
   "execution_count": 101,
   "metadata": {},
   "outputs": [],
   "source": [
    "data_sample.to_csv('data_sample1')"
   ]
  },
  {
   "cell_type": "code",
   "execution_count": 129,
   "metadata": {},
   "outputs": [],
   "source": [
    "data_sample2 = test_df.iloc[:,:187].sample(1, random_state=8)\n",
    "data_sample2.to_csv('data/heartwave_data2')"
   ]
  },
  {
   "cell_type": "code",
   "execution_count": 133,
   "metadata": {},
   "outputs": [
    {
     "name": "stdout",
     "output_type": "stream",
     "text": [
      "heartwave_data1\n"
     ]
    }
   ],
   "source": [
    "a = 3\n",
    "aa = print(f'heartwave_data{1}')"
   ]
  },
  {
   "cell_type": "code",
   "execution_count": 134,
   "metadata": {},
   "outputs": [],
   "source": [
    "for i in range(1, 21):\n",
    "    data_sample = test_df.iloc[:,:187].sample(1, random_state=i)\n",
    "    data_sample.to_csv(f'data/heartwave_data{i}')"
   ]
  },
  {
   "cell_type": "code",
   "execution_count": 107,
   "metadata": {},
   "outputs": [
    {
     "data": {
      "text/html": [
       "<div>\n",
       "<style scoped>\n",
       "    .dataframe tbody tr th:only-of-type {\n",
       "        vertical-align: middle;\n",
       "    }\n",
       "\n",
       "    .dataframe tbody tr th {\n",
       "        vertical-align: top;\n",
       "    }\n",
       "\n",
       "    .dataframe thead th {\n",
       "        text-align: right;\n",
       "    }\n",
       "</style>\n",
       "<table border=\"1\" class=\"dataframe\">\n",
       "  <thead>\n",
       "    <tr style=\"text-align: right;\">\n",
       "      <th></th>\n",
       "      <th>0</th>\n",
       "      <th>1</th>\n",
       "      <th>2</th>\n",
       "      <th>3</th>\n",
       "      <th>4</th>\n",
       "      <th>5</th>\n",
       "      <th>6</th>\n",
       "      <th>7</th>\n",
       "      <th>8</th>\n",
       "      <th>9</th>\n",
       "      <th>...</th>\n",
       "      <th>177</th>\n",
       "      <th>178</th>\n",
       "      <th>179</th>\n",
       "      <th>180</th>\n",
       "      <th>181</th>\n",
       "      <th>182</th>\n",
       "      <th>183</th>\n",
       "      <th>184</th>\n",
       "      <th>185</th>\n",
       "      <th>186</th>\n",
       "    </tr>\n",
       "  </thead>\n",
       "  <tbody>\n",
       "    <tr>\n",
       "      <th>1322</th>\n",
       "      <td>1.0</td>\n",
       "      <td>0.89339</td>\n",
       "      <td>0.66951</td>\n",
       "      <td>0.469083</td>\n",
       "      <td>0.217484</td>\n",
       "      <td>0.059701</td>\n",
       "      <td>0.0</td>\n",
       "      <td>0.010661</td>\n",
       "      <td>0.029851</td>\n",
       "      <td>0.081023</td>\n",
       "      <td>...</td>\n",
       "      <td>0.0</td>\n",
       "      <td>0.0</td>\n",
       "      <td>0.0</td>\n",
       "      <td>0.0</td>\n",
       "      <td>0.0</td>\n",
       "      <td>0.0</td>\n",
       "      <td>0.0</td>\n",
       "      <td>0.0</td>\n",
       "      <td>0.0</td>\n",
       "      <td>0.0</td>\n",
       "    </tr>\n",
       "  </tbody>\n",
       "</table>\n",
       "<p>1 rows × 187 columns</p>\n",
       "</div>"
      ],
      "text/plain": [
       "      0        1        2         3         4         5    6         7    \\\n",
       "1322  1.0  0.89339  0.66951  0.469083  0.217484  0.059701  0.0  0.010661   \n",
       "\n",
       "           8         9    ...  177  178  179  180  181  182  183  184  185  \\\n",
       "1322  0.029851  0.081023  ...  0.0  0.0  0.0  0.0  0.0  0.0  0.0  0.0  0.0   \n",
       "\n",
       "      186  \n",
       "1322  0.0  \n",
       "\n",
       "[1 rows x 187 columns]"
      ]
     },
     "execution_count": 107,
     "metadata": {},
     "output_type": "execute_result"
    }
   ],
   "source": [
    "data_sample2"
   ]
  },
  {
   "cell_type": "code",
   "execution_count": 112,
   "metadata": {},
   "outputs": [
    {
     "data": {
      "text/plain": [
       "array([1., 0., 0., 0., 0.], dtype=float32)"
      ]
     },
     "execution_count": 112,
     "metadata": {},
     "output_type": "execute_result"
    }
   ],
   "source": [
    "y_test[1623]"
   ]
  },
  {
   "cell_type": "code",
   "execution_count": 113,
   "metadata": {},
   "outputs": [],
   "source": [
    "bb = data_sample2.to_json()"
   ]
  },
  {
   "cell_type": "code",
   "execution_count": 124,
   "metadata": {},
   "outputs": [
    {
     "data": {
      "text/html": [
       "<div>\n",
       "<style scoped>\n",
       "    .dataframe tbody tr th:only-of-type {\n",
       "        vertical-align: middle;\n",
       "    }\n",
       "\n",
       "    .dataframe tbody tr th {\n",
       "        vertical-align: top;\n",
       "    }\n",
       "\n",
       "    .dataframe thead th {\n",
       "        text-align: right;\n",
       "    }\n",
       "</style>\n",
       "<table border=\"1\" class=\"dataframe\">\n",
       "  <thead>\n",
       "    <tr style=\"text-align: right;\">\n",
       "      <th></th>\n",
       "      <th>0</th>\n",
       "      <th>1</th>\n",
       "      <th>2</th>\n",
       "      <th>3</th>\n",
       "      <th>4</th>\n",
       "      <th>5</th>\n",
       "      <th>6</th>\n",
       "      <th>7</th>\n",
       "      <th>8</th>\n",
       "      <th>9</th>\n",
       "      <th>...</th>\n",
       "      <th>177</th>\n",
       "      <th>178</th>\n",
       "      <th>179</th>\n",
       "      <th>180</th>\n",
       "      <th>181</th>\n",
       "      <th>182</th>\n",
       "      <th>183</th>\n",
       "      <th>184</th>\n",
       "      <th>185</th>\n",
       "      <th>186</th>\n",
       "    </tr>\n",
       "  </thead>\n",
       "  <tbody>\n",
       "    <tr>\n",
       "      <th>1322</th>\n",
       "      <td>1.0</td>\n",
       "      <td>0.89339</td>\n",
       "      <td>0.66951</td>\n",
       "      <td>0.469083</td>\n",
       "      <td>0.217484</td>\n",
       "      <td>0.059701</td>\n",
       "      <td>0.0</td>\n",
       "      <td>0.010661</td>\n",
       "      <td>0.029851</td>\n",
       "      <td>0.081023</td>\n",
       "      <td>...</td>\n",
       "      <td>0.0</td>\n",
       "      <td>0.0</td>\n",
       "      <td>0.0</td>\n",
       "      <td>0.0</td>\n",
       "      <td>0.0</td>\n",
       "      <td>0.0</td>\n",
       "      <td>0.0</td>\n",
       "      <td>0.0</td>\n",
       "      <td>0.0</td>\n",
       "      <td>0.0</td>\n",
       "    </tr>\n",
       "  </tbody>\n",
       "</table>\n",
       "<p>1 rows × 187 columns</p>\n",
       "</div>"
      ],
      "text/plain": [
       "      0        1        2         3         4         5    6         7    \\\n",
       "1322  1.0  0.89339  0.66951  0.469083  0.217484  0.059701  0.0  0.010661   \n",
       "\n",
       "           8         9    ...  177  178  179  180  181  182  183  184  185  \\\n",
       "1322  0.029851  0.081023  ...  0.0  0.0  0.0  0.0  0.0  0.0  0.0  0.0  0.0   \n",
       "\n",
       "      186  \n",
       "1322  0.0  \n",
       "\n",
       "[1 rows x 187 columns]"
      ]
     },
     "execution_count": 124,
     "metadata": {},
     "output_type": "execute_result"
    }
   ],
   "source": [
    "data_sample2"
   ]
  },
  {
   "cell_type": "code",
   "execution_count": 115,
   "metadata": {},
   "outputs": [
    {
     "data": {
      "text/plain": [
       "str"
      ]
     },
     "execution_count": 115,
     "metadata": {},
     "output_type": "execute_result"
    }
   ],
   "source": [
    "type(bb)"
   ]
  },
  {
   "cell_type": "code",
   "execution_count": 116,
   "metadata": {},
   "outputs": [],
   "source": [
    "from flask import jsonify"
   ]
  },
  {
   "cell_type": "code",
   "execution_count": 120,
   "metadata": {},
   "outputs": [
    {
     "data": {
      "text/plain": [
       "'{\"0\":{\"1322\":1.0},\"1\":{\"1322\":0.8933901787},\"2\":{\"1322\":0.6695095897},\"3\":{\"1322\":0.4690831602},\"4\":{\"1322\":0.2174840122},\"5\":{\"1322\":0.0597014911},\"6\":{\"1322\":0.0},\"7\":{\"1322\":0.0106609808},\"8\":{\"1322\":0.0298507456},\"9\":{\"1322\":0.0810234547},\"10\":{\"1322\":0.1108741984},\"11\":{\"1322\":0.1385927498},\"12\":{\"1322\":0.1663112938},\"13\":{\"1322\":0.1727078855},\"14\":{\"1322\":0.1748400927},\"15\":{\"1322\":0.1812366694},\"16\":{\"1322\":0.1727078855},\"17\":{\"1322\":0.1663112938},\"18\":{\"1322\":0.1641791016},\"19\":{\"1322\":0.1556503177},\"20\":{\"1322\":0.149253726},\"21\":{\"1322\":0.1513859332},\"22\":{\"1322\":0.149253726},\"23\":{\"1322\":0.1449893415},\"24\":{\"1322\":0.1428571492},\"25\":{\"1322\":0.1556503177},\"26\":{\"1322\":0.1599147171},\"27\":{\"1322\":0.1641791016},\"28\":{\"1322\":0.1663112938},\"29\":{\"1322\":0.1855010688},\"30\":{\"1322\":0.196162045},\"31\":{\"1322\":0.2132196128},\"32\":{\"1322\":0.2345415801},\"33\":{\"1322\":0.251599133},\"34\":{\"1322\":0.2665245235},\"35\":{\"1322\":0.2835820913},\"36\":{\"1322\":0.298507452},\"37\":{\"1322\":0.317697227},\"38\":{\"1322\":0.3326225877},\"39\":{\"1322\":0.3432835937},\"40\":{\"1322\":0.3518123627},\"41\":{\"1322\":0.3518123627},\"42\":{\"1322\":0.3624733388},\"43\":{\"1322\":0.3603411615},\"44\":{\"1322\":0.3496801853},\"45\":{\"1322\":0.3496801853},\"46\":{\"1322\":0.3411513865},\"47\":{\"1322\":0.3347547948},\"48\":{\"1322\":0.3347547948},\"49\":{\"1322\":0.3411513865},\"50\":{\"1322\":0.3411513865},\"51\":{\"1322\":0.3390191793},\"52\":{\"1322\":0.3283582032},\"53\":{\"1322\":0.3347547948},\"54\":{\"1322\":0.345415771},\"55\":{\"1322\":0.3518123627},\"56\":{\"1322\":0.3518123627},\"57\":{\"1322\":0.3496801853},\"58\":{\"1322\":0.3518123627},\"59\":{\"1322\":0.3603411615},\"60\":{\"1322\":0.3560767472},\"61\":{\"1322\":0.3262260258},\"62\":{\"1322\":0.2963752747},\"63\":{\"1322\":0.2665245235},\"64\":{\"1322\":0.262260139},\"65\":{\"1322\":0.2558635473},\"66\":{\"1322\":0.2579957247},\"67\":{\"1322\":0.2601279318},\"68\":{\"1322\":0.2601279318},\"69\":{\"1322\":0.262260139},\"70\":{\"1322\":0.2665245235},\"71\":{\"1322\":0.270788908},\"72\":{\"1322\":0.2686567307},\"73\":{\"1322\":0.2771854997},\"74\":{\"1322\":0.2771854997},\"75\":{\"1322\":0.2793177068},\"76\":{\"1322\":0.2750532925},\"77\":{\"1322\":0.2793177068},\"78\":{\"1322\":0.2793177068},\"79\":{\"1322\":0.2835820913},\"80\":{\"1322\":0.2750532925},\"81\":{\"1322\":0.2601279318},\"82\":{\"1322\":0.3390191793},\"83\":{\"1322\":0.5095948577},\"84\":{\"1322\":0.6119403243},\"85\":{\"1322\":0.756929636},\"86\":{\"1322\":0.897654593},\"87\":{\"1322\":0.933901906},\"88\":{\"1322\":0.9019189477},\"89\":{\"1322\":0.729211092},\"90\":{\"1322\":0.5756929517},\"91\":{\"1322\":0.3944562972},\"92\":{\"1322\":0.196162045},\"93\":{\"1322\":0.0660980791},\"94\":{\"1322\":0.0234541576},\"95\":{\"1322\":0.0298507456},\"96\":{\"1322\":0.0426439233},\"97\":{\"1322\":0.0874200463},\"98\":{\"1322\":0.1151385903},\"99\":{\"1322\":0.1428571492},\"100\":{\"1322\":0.168443501},\"101\":{\"1322\":0.1876332611},\"102\":{\"1322\":0.196162045},\"103\":{\"1322\":0.1940298527},\"104\":{\"1322\":0.1876332611},\"105\":{\"1322\":0.0},\"106\":{\"1322\":0.0},\"107\":{\"1322\":0.0},\"108\":{\"1322\":0.0},\"109\":{\"1322\":0.0},\"110\":{\"1322\":0.0},\"111\":{\"1322\":0.0},\"112\":{\"1322\":0.0},\"113\":{\"1322\":0.0},\"114\":{\"1322\":0.0},\"115\":{\"1322\":0.0},\"116\":{\"1322\":0.0},\"117\":{\"1322\":0.0},\"118\":{\"1322\":0.0},\"119\":{\"1322\":0.0},\"120\":{\"1322\":0.0},\"121\":{\"1322\":0.0},\"122\":{\"1322\":0.0},\"123\":{\"1322\":0.0},\"124\":{\"1322\":0.0},\"125\":{\"1322\":0.0},\"126\":{\"1322\":0.0},\"127\":{\"1322\":0.0},\"128\":{\"1322\":0.0},\"129\":{\"1322\":0.0},\"130\":{\"1322\":0.0},\"131\":{\"1322\":0.0},\"132\":{\"1322\":0.0},\"133\":{\"1322\":0.0},\"134\":{\"1322\":0.0},\"135\":{\"1322\":0.0},\"136\":{\"1322\":0.0},\"137\":{\"1322\":0.0},\"138\":{\"1322\":0.0},\"139\":{\"1322\":0.0},\"140\":{\"1322\":0.0},\"141\":{\"1322\":0.0},\"142\":{\"1322\":0.0},\"143\":{\"1322\":0.0},\"144\":{\"1322\":0.0},\"145\":{\"1322\":0.0},\"146\":{\"1322\":0.0},\"147\":{\"1322\":0.0},\"148\":{\"1322\":0.0},\"149\":{\"1322\":0.0},\"150\":{\"1322\":0.0},\"151\":{\"1322\":0.0},\"152\":{\"1322\":0.0},\"153\":{\"1322\":0.0},\"154\":{\"1322\":0.0},\"155\":{\"1322\":0.0},\"156\":{\"1322\":0.0},\"157\":{\"1322\":0.0},\"158\":{\"1322\":0.0},\"159\":{\"1322\":0.0},\"160\":{\"1322\":0.0},\"161\":{\"1322\":0.0},\"162\":{\"1322\":0.0},\"163\":{\"1322\":0.0},\"164\":{\"1322\":0.0},\"165\":{\"1322\":0.0},\"166\":{\"1322\":0.0},\"167\":{\"1322\":0.0},\"168\":{\"1322\":0.0},\"169\":{\"1322\":0.0},\"170\":{\"1322\":0.0},\"171\":{\"1322\":0.0},\"172\":{\"1322\":0.0},\"173\":{\"1322\":0.0},\"174\":{\"1322\":0.0},\"175\":{\"1322\":0.0},\"176\":{\"1322\":0.0},\"177\":{\"1322\":0.0},\"178\":{\"1322\":0.0},\"179\":{\"1322\":0.0},\"180\":{\"1322\":0.0},\"181\":{\"1322\":0.0},\"182\":{\"1322\":0.0},\"183\":{\"1322\":0.0},\"184\":{\"1322\":0.0},\"185\":{\"1322\":0.0},\"186\":{\"1322\":0.0}}'"
      ]
     },
     "execution_count": 120,
     "metadata": {},
     "output_type": "execute_result"
    }
   ],
   "source": [
    "eval(bb)\n",
    "bb"
   ]
  },
  {
   "cell_type": "code",
   "execution_count": 127,
   "metadata": {},
   "outputs": [
    {
     "data": {
      "text/plain": [
       "0"
      ]
     },
     "execution_count": 127,
     "metadata": {},
     "output_type": "execute_result"
    }
   ],
   "source": [
    "vv = [0.9, 0.1, 0.1]\n",
    "np.array(vv).argmax()"
   ]
  },
  {
   "cell_type": "code",
   "execution_count": 128,
   "metadata": {},
   "outputs": [
    {
     "ename": "AttributeError",
     "evalue": "'list' object has no attribute 'idmax'",
     "output_type": "error",
     "traceback": [
      "\u001b[0;31m------------------------------------\u001b[0m",
      "\u001b[0;31mAttributeError\u001b[0mTraceback (most recent call last)",
      "\u001b[0;32m<ipython-input-128-a8ace1aad891>\u001b[0m in \u001b[0;36m<module>\u001b[0;34m\u001b[0m\n\u001b[0;32m----> 1\u001b[0;31m \u001b[0mvv\u001b[0m\u001b[0;34m.\u001b[0m\u001b[0midmax\u001b[0m\u001b[0;34m(\u001b[0m\u001b[0;34m)\u001b[0m\u001b[0;34m\u001b[0m\u001b[0;34m\u001b[0m\u001b[0m\n\u001b[0m",
      "\u001b[0;31mAttributeError\u001b[0m: 'list' object has no attribute 'idmax'"
     ]
    }
   ],
   "source": [
    "vv.idmax()"
   ]
  },
  {
   "cell_type": "code",
   "execution_count": null,
   "metadata": {},
   "outputs": [],
   "source": []
  }
 ],
 "metadata": {
  "kernelspec": {
   "display_name": "Python 3",
   "language": "python",
   "name": "python3"
  },
  "language_info": {
   "codemirror_mode": {
    "name": "ipython",
    "version": 3
   },
   "file_extension": ".py",
   "mimetype": "text/x-python",
   "name": "python",
   "nbconvert_exporter": "python",
   "pygments_lexer": "ipython3",
   "version": "3.7.4"
  }
 },
 "nbformat": 4,
 "nbformat_minor": 4
}
